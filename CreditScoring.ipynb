{
 "cells": [
  {
   "cell_type": "markdown",
   "metadata": {},
   "source": [
    "## Кредитный Скоринг\n",
    "\n",
    "#### Описание задачи\n",
    "Дана выборка заявок на кредитный продукт. Про заявителей известны различные данные на момент заполнения анкеты. По части выборки (train, validate) известны результаты пользования кредитом (случился дефолт или нет), а по другой части(test) результаты известны только организаторам. Необходимо извлечь зависимость из имеющихся данных о заявителях и фактом наличия дефолта, и предсказать результат на тестовых данных.\n",
    "В качестве ментрики используется [AUC](https://www.kaggle.com/wiki/AreaUnderCurve).\n",
    "#### Описаие выборки  \n",
    "\n",
    "##### APPLICATION_INFO.csv  \n",
    " - **id** - идентификатор счета\n",
    " - **application_dt** -  Дата подачи заявки\n",
    " - **sample_cd** -  Категория выборки\n",
    " - **education_cd** -  Образование\n",
    " - **gender_cd** -  Пол\n",
    " - **age** -  Возраст\n",
    " - **car_own_flg** -  Флаг наличия автомобиля\n",
    " - **car_type_flg** -  Флаг наличия иномарки\n",
    " - **appl_rej_cnt** -  Количество отказанных прошлых заявок\n",
    " - **good_work_flg** -  Флаг наличия \"хорошей\" работы\n",
    " - **Score_bki** -  Скор балл по данным из бюро кредитных историй\n",
    " - **out_request_cnt** -  Количество запросов в бюро\n",
    " - **region_rating** -  Рейтиг региона\n",
    " - **home_address_cd** -  Категаризатор домашнего адреса\n",
    " - **work_address_cd** -  Категаризатор рабочего адреса\n",
    " - **income** -  Доход заявителя\n",
    " - **SNA** -  Связь заявителя с клиентами\n",
    " - **first_time_cd** -  Давность наличия информации о заявителе\n",
    " - **Air_flg** -  Наличие загран паспорта\n",
    " \n",
    "##### DEFAULT_FLG.csv  \n",
    "\n",
    " - **id** - идентификатор счета\n",
    " - **default_flg** -  Флаг дефота по кредиту\n",
    "\n"
   ]
  },
  {
   "cell_type": "code",
   "execution_count": 1,
   "metadata": {
    "collapsed": true
   },
   "outputs": [],
   "source": [
    "#Подключаем библиотеки\n",
    "import pandas as pd #Обработка табличных данных\n",
    "import numpy as np #Алгоритмы линейной алгебры\n",
    "import matplotlib.pyplot as plt #Различные способы визуализации\n",
    "%matplotlib inline"
   ]
  },
  {
   "cell_type": "markdown",
   "metadata": {},
   "source": [
    "#### Предобработка данных"
   ]
  },
  {
   "cell_type": "code",
   "execution_count": 2,
   "metadata": {
    "collapsed": true
   },
   "outputs": [],
   "source": [
    "## Считываем данные из csv файла\n",
    "df = pd.read_csv('application_info.csv', index_col='id')"
   ]
  },
  {
   "cell_type": "code",
   "execution_count": 3,
   "metadata": {},
   "outputs": [
    {
     "data": {
      "text/plain": [
       "pandas.core.frame.DataFrame"
      ]
     },
     "execution_count": 3,
     "metadata": {},
     "output_type": "execute_result"
    }
   ],
   "source": [
    "#Тип данных\n",
    "type(df)"
   ]
  },
  {
   "cell_type": "code",
   "execution_count": 4,
   "metadata": {},
   "outputs": [
    {
     "data": {
      "text/plain": [
       "(205296, 18)"
      ]
     },
     "execution_count": 4,
     "metadata": {},
     "output_type": "execute_result"
    }
   ],
   "source": [
    "#Размерность данных\n",
    "df.shape"
   ]
  },
  {
   "cell_type": "code",
   "execution_count": 5,
   "metadata": {},
   "outputs": [
    {
     "data": {
      "text/html": [
       "<div>\n",
       "<table border=\"1\" class=\"dataframe\">\n",
       "  <thead>\n",
       "    <tr style=\"text-align: right;\">\n",
       "      <th></th>\n",
       "      <th>application_dt</th>\n",
       "      <th>sample_cd</th>\n",
       "      <th>education_cd</th>\n",
       "      <th>gender_cd</th>\n",
       "      <th>age</th>\n",
       "      <th>car_own_flg</th>\n",
       "      <th>car_type_flg</th>\n",
       "      <th>appl_rej_cnt</th>\n",
       "      <th>good_work_flg</th>\n",
       "      <th>Score_bki</th>\n",
       "      <th>out_request_cnt</th>\n",
       "      <th>region_rating</th>\n",
       "      <th>home_address_cd</th>\n",
       "      <th>work_address_cd</th>\n",
       "      <th>income</th>\n",
       "      <th>SNA</th>\n",
       "      <th>first_time_cd</th>\n",
       "      <th>Air_flg</th>\n",
       "    </tr>\n",
       "    <tr>\n",
       "      <th>id</th>\n",
       "      <th></th>\n",
       "      <th></th>\n",
       "      <th></th>\n",
       "      <th></th>\n",
       "      <th></th>\n",
       "      <th></th>\n",
       "      <th></th>\n",
       "      <th></th>\n",
       "      <th></th>\n",
       "      <th></th>\n",
       "      <th></th>\n",
       "      <th></th>\n",
       "      <th></th>\n",
       "      <th></th>\n",
       "      <th></th>\n",
       "      <th></th>\n",
       "      <th></th>\n",
       "      <th></th>\n",
       "    </tr>\n",
       "  </thead>\n",
       "  <tbody>\n",
       "    <tr>\n",
       "      <th>1</th>\n",
       "      <td>01JAN2014</td>\n",
       "      <td>train</td>\n",
       "      <td>SCH</td>\n",
       "      <td>M</td>\n",
       "      <td>27</td>\n",
       "      <td>Y</td>\n",
       "      <td>Y</td>\n",
       "      <td>0</td>\n",
       "      <td>0</td>\n",
       "      <td>-1.917831</td>\n",
       "      <td>0</td>\n",
       "      <td>40</td>\n",
       "      <td>2</td>\n",
       "      <td>3</td>\n",
       "      <td>32000</td>\n",
       "      <td>1</td>\n",
       "      <td>4</td>\n",
       "      <td>N</td>\n",
       "    </tr>\n",
       "    <tr>\n",
       "      <th>2</th>\n",
       "      <td>01JAN2014</td>\n",
       "      <td>train</td>\n",
       "      <td>GRD</td>\n",
       "      <td>F</td>\n",
       "      <td>26</td>\n",
       "      <td>N</td>\n",
       "      <td>N</td>\n",
       "      <td>0</td>\n",
       "      <td>0</td>\n",
       "      <td>-1.153144</td>\n",
       "      <td>2</td>\n",
       "      <td>60</td>\n",
       "      <td>2</td>\n",
       "      <td>3</td>\n",
       "      <td>50000</td>\n",
       "      <td>2</td>\n",
       "      <td>1</td>\n",
       "      <td>N</td>\n",
       "    </tr>\n",
       "    <tr>\n",
       "      <th>3</th>\n",
       "      <td>01JAN2014</td>\n",
       "      <td>train</td>\n",
       "      <td>SCH</td>\n",
       "      <td>M</td>\n",
       "      <td>35</td>\n",
       "      <td>N</td>\n",
       "      <td>N</td>\n",
       "      <td>0</td>\n",
       "      <td>1</td>\n",
       "      <td>-1.732810</td>\n",
       "      <td>0</td>\n",
       "      <td>40</td>\n",
       "      <td>1</td>\n",
       "      <td>2</td>\n",
       "      <td>20000</td>\n",
       "      <td>4</td>\n",
       "      <td>3</td>\n",
       "      <td>N</td>\n",
       "    </tr>\n",
       "    <tr>\n",
       "      <th>4</th>\n",
       "      <td>01JAN2014</td>\n",
       "      <td>train</td>\n",
       "      <td>GRD</td>\n",
       "      <td>F</td>\n",
       "      <td>35</td>\n",
       "      <td>N</td>\n",
       "      <td>N</td>\n",
       "      <td>0</td>\n",
       "      <td>1</td>\n",
       "      <td>-2.552133</td>\n",
       "      <td>2</td>\n",
       "      <td>20</td>\n",
       "      <td>2</td>\n",
       "      <td>3</td>\n",
       "      <td>80000</td>\n",
       "      <td>1</td>\n",
       "      <td>3</td>\n",
       "      <td>N</td>\n",
       "    </tr>\n",
       "    <tr>\n",
       "      <th>5</th>\n",
       "      <td>01JAN2014</td>\n",
       "      <td>train</td>\n",
       "      <td>UGR</td>\n",
       "      <td>F</td>\n",
       "      <td>24</td>\n",
       "      <td>N</td>\n",
       "      <td>N</td>\n",
       "      <td>0</td>\n",
       "      <td>0</td>\n",
       "      <td>-1.914581</td>\n",
       "      <td>1</td>\n",
       "      <td>50</td>\n",
       "      <td>2</td>\n",
       "      <td>3</td>\n",
       "      <td>27000</td>\n",
       "      <td>1</td>\n",
       "      <td>2</td>\n",
       "      <td>N</td>\n",
       "    </tr>\n",
       "  </tbody>\n",
       "</table>\n",
       "</div>"
      ],
      "text/plain": [
       "   application_dt sample_cd education_cd gender_cd  age car_own_flg  \\\n",
       "id                                                                    \n",
       "1       01JAN2014     train          SCH         M   27           Y   \n",
       "2       01JAN2014     train          GRD         F   26           N   \n",
       "3       01JAN2014     train          SCH         M   35           N   \n",
       "4       01JAN2014     train          GRD         F   35           N   \n",
       "5       01JAN2014     train          UGR         F   24           N   \n",
       "\n",
       "   car_type_flg  appl_rej_cnt  good_work_flg  Score_bki  out_request_cnt  \\\n",
       "id                                                                         \n",
       "1             Y             0              0  -1.917831                0   \n",
       "2             N             0              0  -1.153144                2   \n",
       "3             N             0              1  -1.732810                0   \n",
       "4             N             0              1  -2.552133                2   \n",
       "5             N             0              0  -1.914581                1   \n",
       "\n",
       "    region_rating  home_address_cd  work_address_cd  income  SNA  \\\n",
       "id                                                                 \n",
       "1              40                2                3   32000    1   \n",
       "2              60                2                3   50000    2   \n",
       "3              40                1                2   20000    4   \n",
       "4              20                2                3   80000    1   \n",
       "5              50                2                3   27000    1   \n",
       "\n",
       "    first_time_cd Air_flg  \n",
       "id                         \n",
       "1               4       N  \n",
       "2               1       N  \n",
       "3               3       N  \n",
       "4               3       N  \n",
       "5               2       N  "
      ]
     },
     "execution_count": 5,
     "metadata": {},
     "output_type": "execute_result"
    }
   ],
   "source": [
    "#Выведем первые несколько строк\n",
    "df.head(5)"
   ]
  },
  {
   "cell_type": "code",
   "execution_count": 6,
   "metadata": {},
   "outputs": [
    {
     "data": {
      "text/html": [
       "<div>\n",
       "<table border=\"1\" class=\"dataframe\">\n",
       "  <thead>\n",
       "    <tr style=\"text-align: right;\">\n",
       "      <th></th>\n",
       "      <th>application_dt</th>\n",
       "      <th>sample_cd</th>\n",
       "      <th>education_cd</th>\n",
       "      <th>gender_cd</th>\n",
       "      <th>age</th>\n",
       "      <th>car_own_flg</th>\n",
       "      <th>car_type_flg</th>\n",
       "      <th>appl_rej_cnt</th>\n",
       "      <th>good_work_flg</th>\n",
       "      <th>Score_bki</th>\n",
       "      <th>out_request_cnt</th>\n",
       "      <th>region_rating</th>\n",
       "      <th>home_address_cd</th>\n",
       "      <th>work_address_cd</th>\n",
       "      <th>income</th>\n",
       "      <th>SNA</th>\n",
       "      <th>first_time_cd</th>\n",
       "      <th>Air_flg</th>\n",
       "    </tr>\n",
       "    <tr>\n",
       "      <th>id</th>\n",
       "      <th></th>\n",
       "      <th></th>\n",
       "      <th></th>\n",
       "      <th></th>\n",
       "      <th></th>\n",
       "      <th></th>\n",
       "      <th></th>\n",
       "      <th></th>\n",
       "      <th></th>\n",
       "      <th></th>\n",
       "      <th></th>\n",
       "      <th></th>\n",
       "      <th></th>\n",
       "      <th></th>\n",
       "      <th></th>\n",
       "      <th></th>\n",
       "      <th></th>\n",
       "      <th></th>\n",
       "    </tr>\n",
       "  </thead>\n",
       "  <tbody>\n",
       "    <tr>\n",
       "      <th>205295</th>\n",
       "      <td>31MAR2015</td>\n",
       "      <td>test</td>\n",
       "      <td>PGR</td>\n",
       "      <td>M</td>\n",
       "      <td>27</td>\n",
       "      <td>Y</td>\n",
       "      <td>Y</td>\n",
       "      <td>1</td>\n",
       "      <td>0</td>\n",
       "      <td>-1.552576</td>\n",
       "      <td>0</td>\n",
       "      <td>50</td>\n",
       "      <td>1</td>\n",
       "      <td>3</td>\n",
       "      <td>32500</td>\n",
       "      <td>1</td>\n",
       "      <td>3</td>\n",
       "      <td>Y</td>\n",
       "    </tr>\n",
       "    <tr>\n",
       "      <th>205296</th>\n",
       "      <td>31MAR2015</td>\n",
       "      <td>test</td>\n",
       "      <td>GRD</td>\n",
       "      <td>F</td>\n",
       "      <td>44</td>\n",
       "      <td>N</td>\n",
       "      <td>N</td>\n",
       "      <td>0</td>\n",
       "      <td>1</td>\n",
       "      <td>-1.517509</td>\n",
       "      <td>4</td>\n",
       "      <td>50</td>\n",
       "      <td>1</td>\n",
       "      <td>3</td>\n",
       "      <td>30000</td>\n",
       "      <td>1</td>\n",
       "      <td>4</td>\n",
       "      <td>Y</td>\n",
       "    </tr>\n",
       "  </tbody>\n",
       "</table>\n",
       "</div>"
      ],
      "text/plain": [
       "       application_dt sample_cd education_cd gender_cd  age car_own_flg  \\\n",
       "id                                                                        \n",
       "205295      31MAR2015      test          PGR         M   27           Y   \n",
       "205296      31MAR2015      test          GRD         F   44           N   \n",
       "\n",
       "       car_type_flg  appl_rej_cnt  good_work_flg  Score_bki  out_request_cnt  \\\n",
       "id                                                                             \n",
       "205295            Y             1              0  -1.552576                0   \n",
       "205296            N             0              1  -1.517509                4   \n",
       "\n",
       "        region_rating  home_address_cd  work_address_cd  income  SNA  \\\n",
       "id                                                                     \n",
       "205295             50                1                3   32500    1   \n",
       "205296             50                1                3   30000    1   \n",
       "\n",
       "        first_time_cd Air_flg  \n",
       "id                             \n",
       "205295              3       Y  \n",
       "205296              4       Y  "
      ]
     },
     "execution_count": 6,
     "metadata": {},
     "output_type": "execute_result"
    }
   ],
   "source": [
    "#Выведем несколько последних строк\n",
    "df.tail(2)"
   ]
  },
  {
   "cell_type": "code",
   "execution_count": 7,
   "metadata": {},
   "outputs": [
    {
     "data": {
      "text/plain": [
       "Index(['application_dt', 'sample_cd', 'education_cd', 'gender_cd', 'age',\n",
       "       'car_own_flg', 'car_type_flg', 'appl_rej_cnt', 'good_work_flg',\n",
       "       'Score_bki', 'out_request_cnt', 'region_rating', 'home_address_cd',\n",
       "       'work_address_cd', 'income', 'SNA', 'first_time_cd', 'Air_flg'],\n",
       "      dtype='object')"
      ]
     },
     "execution_count": 7,
     "metadata": {},
     "output_type": "execute_result"
    }
   ],
   "source": [
    "#Список всех полей\n",
    "df.columns"
   ]
  },
  {
   "cell_type": "code",
   "execution_count": 40,
   "metadata": {},
   "outputs": [
    {
     "data": {
      "text/plain": [
       "age                   int64\n",
       "appl_rej_cnt          int64\n",
       "good_work_flg         int64\n",
       "Score_bki           float64\n",
       "out_request_cnt       int64\n",
       "region_rating         int64\n",
       "home_address_cd      object\n",
       "work_address_cd       int64\n",
       "income                int64\n",
       "SNA                   int64\n",
       "first_time_cd         int64\n",
       "education_cd_GRD      uint8\n",
       "education_cd_PGR      uint8\n",
       "education_cd_SCH      uint8\n",
       "education_cd_UGR      uint8\n",
       "gender_cd_M           uint8\n",
       "car_own_flg_Y         uint8\n",
       "car_type_flg_Y        uint8\n",
       "Air_flg_Y             uint8\n",
       "dtype: object"
      ]
     },
     "execution_count": 40,
     "metadata": {},
     "output_type": "execute_result"
    }
   ],
   "source": [
    "#Выведем типы полей\n",
    "df.dtypes"
   ]
  },
  {
   "cell_type": "code",
   "execution_count": 10,
   "metadata": {},
   "outputs": [
    {
     "name": "stdout",
     "output_type": "stream",
     "text": [
      "GRD\n",
      "GRD\n",
      "GRD\n"
     ]
    }
   ],
   "source": [
    "#К элемнтам таблицы можно обращаться следующим способом\n",
    "print(df['education_cd'][2])\n",
    "print(df.education_cd[2])\n",
    "print(df.at[2,'education_cd'])"
   ]
  },
  {
   "cell_type": "code",
   "execution_count": 11,
   "metadata": {},
   "outputs": [
    {
     "data": {
      "text/html": [
       "<div>\n",
       "<table border=\"1\" class=\"dataframe\">\n",
       "  <thead>\n",
       "    <tr style=\"text-align: right;\">\n",
       "      <th></th>\n",
       "      <th>age</th>\n",
       "      <th>appl_rej_cnt</th>\n",
       "      <th>good_work_flg</th>\n",
       "      <th>Score_bki</th>\n",
       "      <th>out_request_cnt</th>\n",
       "      <th>region_rating</th>\n",
       "      <th>home_address_cd</th>\n",
       "      <th>work_address_cd</th>\n",
       "      <th>income</th>\n",
       "      <th>SNA</th>\n",
       "      <th>first_time_cd</th>\n",
       "    </tr>\n",
       "  </thead>\n",
       "  <tbody>\n",
       "    <tr>\n",
       "      <th>count</th>\n",
       "      <td>205296.000000</td>\n",
       "      <td>205296.000000</td>\n",
       "      <td>205296.000000</td>\n",
       "      <td>205296.000000</td>\n",
       "      <td>205296.000000</td>\n",
       "      <td>205296.000000</td>\n",
       "      <td>205296.000000</td>\n",
       "      <td>205296.000000</td>\n",
       "      <td>205296.000000</td>\n",
       "      <td>205296.000000</td>\n",
       "      <td>205296.000000</td>\n",
       "    </tr>\n",
       "    <tr>\n",
       "      <th>mean</th>\n",
       "      <td>39.354566</td>\n",
       "      <td>0.277297</td>\n",
       "      <td>0.169701</td>\n",
       "      <td>-1.967120</td>\n",
       "      <td>2.015826</td>\n",
       "      <td>57.332340</td>\n",
       "      <td>1.602218</td>\n",
       "      <td>2.520210</td>\n",
       "      <td>42251.807610</td>\n",
       "      <td>1.725864</td>\n",
       "      <td>2.791657</td>\n",
       "    </tr>\n",
       "    <tr>\n",
       "      <th>std</th>\n",
       "      <td>11.451011</td>\n",
       "      <td>0.782794</td>\n",
       "      <td>0.375371</td>\n",
       "      <td>0.488055</td>\n",
       "      <td>2.138564</td>\n",
       "      <td>13.262627</td>\n",
       "      <td>0.520577</td>\n",
       "      <td>0.689453</td>\n",
       "      <td>45183.110679</td>\n",
       "      <td>1.115876</td>\n",
       "      <td>1.024393</td>\n",
       "    </tr>\n",
       "    <tr>\n",
       "      <th>min</th>\n",
       "      <td>21.000000</td>\n",
       "      <td>0.000000</td>\n",
       "      <td>0.000000</td>\n",
       "      <td>-3.624586</td>\n",
       "      <td>0.000000</td>\n",
       "      <td>20.000000</td>\n",
       "      <td>1.000000</td>\n",
       "      <td>1.000000</td>\n",
       "      <td>1000.000000</td>\n",
       "      <td>1.000000</td>\n",
       "      <td>1.000000</td>\n",
       "    </tr>\n",
       "    <tr>\n",
       "      <th>25%</th>\n",
       "      <td>30.000000</td>\n",
       "      <td>0.000000</td>\n",
       "      <td>0.000000</td>\n",
       "      <td>-2.313894</td>\n",
       "      <td>1.000000</td>\n",
       "      <td>50.000000</td>\n",
       "      <td>1.000000</td>\n",
       "      <td>2.000000</td>\n",
       "      <td>20000.000000</td>\n",
       "      <td>1.000000</td>\n",
       "      <td>2.000000</td>\n",
       "    </tr>\n",
       "    <tr>\n",
       "      <th>50%</th>\n",
       "      <td>37.000000</td>\n",
       "      <td>0.000000</td>\n",
       "      <td>0.000000</td>\n",
       "      <td>-1.990599</td>\n",
       "      <td>2.000000</td>\n",
       "      <td>50.000000</td>\n",
       "      <td>2.000000</td>\n",
       "      <td>3.000000</td>\n",
       "      <td>30000.000000</td>\n",
       "      <td>1.000000</td>\n",
       "      <td>3.000000</td>\n",
       "    </tr>\n",
       "    <tr>\n",
       "      <th>75%</th>\n",
       "      <td>48.000000</td>\n",
       "      <td>0.000000</td>\n",
       "      <td>0.000000</td>\n",
       "      <td>-1.641914</td>\n",
       "      <td>3.000000</td>\n",
       "      <td>70.000000</td>\n",
       "      <td>2.000000</td>\n",
       "      <td>3.000000</td>\n",
       "      <td>50000.000000</td>\n",
       "      <td>2.000000</td>\n",
       "      <td>4.000000</td>\n",
       "    </tr>\n",
       "    <tr>\n",
       "      <th>max</th>\n",
       "      <td>72.000000</td>\n",
       "      <td>33.000000</td>\n",
       "      <td>1.000000</td>\n",
       "      <td>0.199773</td>\n",
       "      <td>53.000000</td>\n",
       "      <td>80.000000</td>\n",
       "      <td>3.000000</td>\n",
       "      <td>3.000000</td>\n",
       "      <td>1000000.000000</td>\n",
       "      <td>4.000000</td>\n",
       "      <td>4.000000</td>\n",
       "    </tr>\n",
       "  </tbody>\n",
       "</table>\n",
       "</div>"
      ],
      "text/plain": [
       "                 age   appl_rej_cnt  good_work_flg      Score_bki  \\\n",
       "count  205296.000000  205296.000000  205296.000000  205296.000000   \n",
       "mean       39.354566       0.277297       0.169701      -1.967120   \n",
       "std        11.451011       0.782794       0.375371       0.488055   \n",
       "min        21.000000       0.000000       0.000000      -3.624586   \n",
       "25%        30.000000       0.000000       0.000000      -2.313894   \n",
       "50%        37.000000       0.000000       0.000000      -1.990599   \n",
       "75%        48.000000       0.000000       0.000000      -1.641914   \n",
       "max        72.000000      33.000000       1.000000       0.199773   \n",
       "\n",
       "       out_request_cnt  region_rating  home_address_cd  work_address_cd  \\\n",
       "count    205296.000000  205296.000000    205296.000000    205296.000000   \n",
       "mean          2.015826      57.332340         1.602218         2.520210   \n",
       "std           2.138564      13.262627         0.520577         0.689453   \n",
       "min           0.000000      20.000000         1.000000         1.000000   \n",
       "25%           1.000000      50.000000         1.000000         2.000000   \n",
       "50%           2.000000      50.000000         2.000000         3.000000   \n",
       "75%           3.000000      70.000000         2.000000         3.000000   \n",
       "max          53.000000      80.000000         3.000000         3.000000   \n",
       "\n",
       "               income            SNA  first_time_cd  \n",
       "count   205296.000000  205296.000000  205296.000000  \n",
       "mean     42251.807610       1.725864       2.791657  \n",
       "std      45183.110679       1.115876       1.024393  \n",
       "min       1000.000000       1.000000       1.000000  \n",
       "25%      20000.000000       1.000000       2.000000  \n",
       "50%      30000.000000       1.000000       3.000000  \n",
       "75%      50000.000000       2.000000       4.000000  \n",
       "max    1000000.000000       4.000000       4.000000  "
      ]
     },
     "execution_count": 11,
     "metadata": {},
     "output_type": "execute_result"
    }
   ],
   "source": [
    "#Выведем сводную информацию по числовым призакам\n",
    "df.describe()"
   ]
  },
  {
   "cell_type": "code",
   "execution_count": 12,
   "metadata": {},
   "outputs": [
    {
     "data": {
      "text/html": [
       "<div>\n",
       "<table border=\"1\" class=\"dataframe\">\n",
       "  <thead>\n",
       "    <tr style=\"text-align: right;\">\n",
       "      <th></th>\n",
       "      <th>application_dt</th>\n",
       "      <th>sample_cd</th>\n",
       "      <th>education_cd</th>\n",
       "      <th>gender_cd</th>\n",
       "      <th>car_own_flg</th>\n",
       "      <th>car_type_flg</th>\n",
       "      <th>Air_flg</th>\n",
       "    </tr>\n",
       "  </thead>\n",
       "  <tbody>\n",
       "    <tr>\n",
       "      <th>count</th>\n",
       "      <td>205296</td>\n",
       "      <td>205296</td>\n",
       "      <td>204384</td>\n",
       "      <td>205296</td>\n",
       "      <td>205296</td>\n",
       "      <td>205296</td>\n",
       "      <td>205296</td>\n",
       "    </tr>\n",
       "    <tr>\n",
       "      <th>unique</th>\n",
       "      <td>333</td>\n",
       "      <td>3</td>\n",
       "      <td>5</td>\n",
       "      <td>2</td>\n",
       "      <td>2</td>\n",
       "      <td>2</td>\n",
       "      <td>2</td>\n",
       "    </tr>\n",
       "    <tr>\n",
       "      <th>top</th>\n",
       "      <td>18MAR2014</td>\n",
       "      <td>train</td>\n",
       "      <td>SCH</td>\n",
       "      <td>F</td>\n",
       "      <td>N</td>\n",
       "      <td>N</td>\n",
       "      <td>N</td>\n",
       "    </tr>\n",
       "    <tr>\n",
       "      <th>freq</th>\n",
       "      <td>1491</td>\n",
       "      <td>110148</td>\n",
       "      <td>100234</td>\n",
       "      <td>117400</td>\n",
       "      <td>139119</td>\n",
       "      <td>166471</td>\n",
       "      <td>172168</td>\n",
       "    </tr>\n",
       "  </tbody>\n",
       "</table>\n",
       "</div>"
      ],
      "text/plain": [
       "       application_dt sample_cd education_cd gender_cd car_own_flg  \\\n",
       "count          205296    205296       204384    205296      205296   \n",
       "unique            333         3            5         2           2   \n",
       "top         18MAR2014     train          SCH         F           N   \n",
       "freq             1491    110148       100234    117400      139119   \n",
       "\n",
       "       car_type_flg Air_flg  \n",
       "count        205296  205296  \n",
       "unique            2       2  \n",
       "top               N       N  \n",
       "freq         166471  172168  "
      ]
     },
     "execution_count": 12,
     "metadata": {},
     "output_type": "execute_result"
    }
   ],
   "source": [
    "#Выведем сводную информацию по строковым призакам\n",
    "df.describe(include=['object'])"
   ]
  },
  {
   "cell_type": "code",
   "execution_count": 13,
   "metadata": {},
   "outputs": [],
   "source": [
    "#application_date - дата. Изменим формат\n",
    "df['application_dt'] = pd.to_datetime(df['application_dt'], format='%d%b%Y')"
   ]
  },
  {
   "cell_type": "code",
   "execution_count": 14,
   "metadata": {},
   "outputs": [
    {
     "data": {
      "text/plain": [
       "train       110148\n",
       "validate     70668\n",
       "test         24480\n",
       "Name: sample_cd, dtype: int64"
      ]
     },
     "execution_count": 14,
     "metadata": {},
     "output_type": "execute_result"
    }
   ],
   "source": [
    "#Можно считать кол-во значений\n",
    "df.sample_cd.value_counts()"
   ]
  },
  {
   "cell_type": "code",
   "execution_count": 15,
   "metadata": {
    "scrolled": true
   },
   "outputs": [
    {
     "data": {
      "image/png": "[encoded data removed]",
      "text/plain": [
       "<matplotlib.figure.Figure at 0x10863bdd8>"
      ]
     },
     "metadata": {},
     "output_type": "display_data"
    }
   ],
   "source": [
    "df.sample_cd.value_counts().plot(kind='bar');"
   ]
  },
  {
   "cell_type": "code",
   "execution_count": 16,
   "metadata": {},
   "outputs": [
    {
     "data": {
      "image/png": "[encoded data removed]",
      "text/plain": [
       "<matplotlib.figure.Figure at 0x110e31eb8>"
      ]
     },
     "metadata": {},
     "output_type": "display_data"
    }
   ],
   "source": [
    "df.application_dt.value_counts().plot();"
   ]
  },
  {
   "cell_type": "code",
   "execution_count": 17,
   "metadata": {},
   "outputs": [
    {
     "name": "stdout",
     "output_type": "stream",
     "text": [
      "(180816, 1)\n"
     ]
    },
    {
     "data": {
      "text/html": [
       "<div>\n",
       "<table border=\"1\" class=\"dataframe\">\n",
       "  <thead>\n",
       "    <tr style=\"text-align: right;\">\n",
       "      <th></th>\n",
       "      <th>default_flg</th>\n",
       "    </tr>\n",
       "    <tr>\n",
       "      <th>id</th>\n",
       "      <th></th>\n",
       "    </tr>\n",
       "  </thead>\n",
       "  <tbody>\n",
       "    <tr>\n",
       "      <th>1</th>\n",
       "      <td>0</td>\n",
       "    </tr>\n",
       "    <tr>\n",
       "      <th>2</th>\n",
       "      <td>0</td>\n",
       "    </tr>\n",
       "  </tbody>\n",
       "</table>\n",
       "</div>"
      ],
      "text/plain": [
       "    default_flg\n",
       "id             \n",
       "1             0\n",
       "2             0"
      ]
     },
     "execution_count": 17,
     "metadata": {},
     "output_type": "execute_result"
    }
   ],
   "source": [
    "#Загрузим флаг дефолта\n",
    "y = pd.read_csv('default_flg.csv', index_col='id')\n",
    "print(y.shape)\n",
    "y.head(2)"
   ]
  },
  {
   "cell_type": "code",
   "execution_count": 18,
   "metadata": {},
   "outputs": [
    {
     "data": {
      "text/html": [
       "<div>\n",
       "<table border=\"1\" class=\"dataframe\">\n",
       "  <thead>\n",
       "    <tr style=\"text-align: right;\">\n",
       "      <th></th>\n",
       "      <th>education_cd</th>\n",
       "      <th>gender_cd</th>\n",
       "      <th>age</th>\n",
       "      <th>car_own_flg</th>\n",
       "      <th>car_type_flg</th>\n",
       "      <th>appl_rej_cnt</th>\n",
       "      <th>good_work_flg</th>\n",
       "      <th>Score_bki</th>\n",
       "      <th>out_request_cnt</th>\n",
       "      <th>region_rating</th>\n",
       "      <th>home_address_cd</th>\n",
       "      <th>work_address_cd</th>\n",
       "      <th>income</th>\n",
       "      <th>SNA</th>\n",
       "      <th>first_time_cd</th>\n",
       "      <th>Air_flg</th>\n",
       "    </tr>\n",
       "    <tr>\n",
       "      <th>id</th>\n",
       "      <th></th>\n",
       "      <th></th>\n",
       "      <th></th>\n",
       "      <th></th>\n",
       "      <th></th>\n",
       "      <th></th>\n",
       "      <th></th>\n",
       "      <th></th>\n",
       "      <th></th>\n",
       "      <th></th>\n",
       "      <th></th>\n",
       "      <th></th>\n",
       "      <th></th>\n",
       "      <th></th>\n",
       "      <th></th>\n",
       "      <th></th>\n",
       "    </tr>\n",
       "  </thead>\n",
       "  <tbody>\n",
       "    <tr>\n",
       "      <th>1</th>\n",
       "      <td>SCH</td>\n",
       "      <td>M</td>\n",
       "      <td>27</td>\n",
       "      <td>Y</td>\n",
       "      <td>Y</td>\n",
       "      <td>0</td>\n",
       "      <td>0</td>\n",
       "      <td>-1.917831</td>\n",
       "      <td>0</td>\n",
       "      <td>40</td>\n",
       "      <td>2</td>\n",
       "      <td>3</td>\n",
       "      <td>32000</td>\n",
       "      <td>1</td>\n",
       "      <td>4</td>\n",
       "      <td>N</td>\n",
       "    </tr>\n",
       "  </tbody>\n",
       "</table>\n",
       "</div>"
      ],
      "text/plain": [
       "   education_cd gender_cd  age car_own_flg car_type_flg  appl_rej_cnt  \\\n",
       "id                                                                      \n",
       "1           SCH         M   27           Y            Y             0   \n",
       "\n",
       "    good_work_flg  Score_bki  out_request_cnt  region_rating  home_address_cd  \\\n",
       "id                                                                              \n",
       "1               0  -1.917831                0             40                2   \n",
       "\n",
       "    work_address_cd  income  SNA  first_time_cd Air_flg  \n",
       "id                                                       \n",
       "1                 3   32000    1              4       N  "
      ]
     },
     "execution_count": 18,
     "metadata": {},
     "output_type": "execute_result"
    }
   ],
   "source": [
    "#Запоминаем разбивку на обучение, валидацию и тест\n",
    "train_index    = df[df.sample_cd =='train'].sample_cd.index\n",
    "validate_index = df[df.sample_cd =='validate'].sample_cd.index\n",
    "test_index     = df[df.sample_cd =='test'].sample_cd.index\n",
    "\n",
    "#Удаляем два столбца из выборки\n",
    "df.drop(['sample_cd','application_dt'],axis=1,inplace=True)\n",
    "df.head(1)"
   ]
  },
  {
   "cell_type": "code",
   "execution_count": 45,
   "metadata": {},
   "outputs": [
    {
     "data": {
      "text/plain": [
       "['home_address_cd', 'work_address_cd']"
      ]
     },
     "execution_count": 45,
     "metadata": {},
     "output_type": "execute_result"
    }
   ],
   "source": [
    "#Список категориальных полей\n",
    "category_columns = [col for col in df.columns if df.dtypes[col] == 'object']\n",
    "category_columns"
   ]
  },
  {
   "cell_type": "code",
   "execution_count": 20,
   "metadata": {},
   "outputs": [
    {
     "data": {
      "text/plain": [
       "education_cd        True\n",
       "gender_cd          False\n",
       "age                False\n",
       "car_own_flg        False\n",
       "car_type_flg       False\n",
       "appl_rej_cnt       False\n",
       "good_work_flg      False\n",
       "Score_bki          False\n",
       "out_request_cnt    False\n",
       "region_rating      False\n",
       "home_address_cd    False\n",
       "work_address_cd    False\n",
       "income             False\n",
       "SNA                False\n",
       "first_time_cd      False\n",
       "Air_flg            False\n",
       "dtype: bool"
      ]
     },
     "execution_count": 20,
     "metadata": {},
     "output_type": "execute_result"
    }
   ],
   "source": [
    "#Поля с пустыми значениями\n",
    "df.isnull().any()"
   ]
  },
  {
   "cell_type": "code",
   "execution_count": 21,
   "metadata": {},
   "outputs": [
    {
     "data": {
      "text/plain": [
       "SCH    100234\n",
       "GRD     71417\n",
       "UGR     28284\n",
       "PGR      3841\n",
       "NaN       912\n",
       "ACD       608\n",
       "Name: education_cd, dtype: int64"
      ]
     },
     "execution_count": 21,
     "metadata": {},
     "output_type": "execute_result"
    }
   ],
   "source": [
    "df.education_cd.value_counts(dropna=False)"
   ]
  },
  {
   "cell_type": "code",
   "execution_count": 22,
   "metadata": {},
   "outputs": [],
   "source": [
    "#Заменим пустые значения на самое частое\n",
    "df.education_cd.fillna('SCH', inplace=True)"
   ]
  },
  {
   "cell_type": "code",
   "execution_count": 46,
   "metadata": {},
   "outputs": [
    {
     "data": {
      "text/html": [
       "<div>\n",
       "<table border=\"1\" class=\"dataframe\">\n",
       "  <thead>\n",
       "    <tr style=\"text-align: right;\">\n",
       "      <th></th>\n",
       "      <th>home_address_cd_S</th>\n",
       "      <th>home_address_cd_T</th>\n",
       "      <th>work_address_cd_S</th>\n",
       "      <th>work_address_cd_T</th>\n",
       "    </tr>\n",
       "    <tr>\n",
       "      <th>id</th>\n",
       "      <th></th>\n",
       "      <th></th>\n",
       "      <th></th>\n",
       "      <th></th>\n",
       "    </tr>\n",
       "  </thead>\n",
       "  <tbody>\n",
       "    <tr>\n",
       "      <th>1</th>\n",
       "      <td>1</td>\n",
       "      <td>0</td>\n",
       "      <td>0</td>\n",
       "      <td>1</td>\n",
       "    </tr>\n",
       "    <tr>\n",
       "      <th>2</th>\n",
       "      <td>1</td>\n",
       "      <td>0</td>\n",
       "      <td>0</td>\n",
       "      <td>1</td>\n",
       "    </tr>\n",
       "  </tbody>\n",
       "</table>\n",
       "</div>"
      ],
      "text/plain": [
       "    home_address_cd_S  home_address_cd_T  work_address_cd_S  work_address_cd_T\n",
       "id                                                                            \n",
       "1                   1                  0                  0                  1\n",
       "2                   1                  0                  0                  1"
      ]
     },
     "execution_count": 46,
     "metadata": {},
     "output_type": "execute_result"
    }
   ],
   "source": [
    "#Производим dummy кодирование нечисловых полей\n",
    "Data_category = pd.get_dummies(df[category_columns], drop_first=True)\n",
    "Data_category.head(2)"
   ]
  },
  {
   "cell_type": "code",
   "execution_count": 47,
   "metadata": {},
   "outputs": [
    {
     "data": {
      "text/html": [
       "<div>\n",
       "<table border=\"1\" class=\"dataframe\">\n",
       "  <thead>\n",
       "    <tr style=\"text-align: right;\">\n",
       "      <th></th>\n",
       "      <th>age</th>\n",
       "      <th>appl_rej_cnt</th>\n",
       "      <th>good_work_flg</th>\n",
       "      <th>Score_bki</th>\n",
       "      <th>out_request_cnt</th>\n",
       "      <th>region_rating</th>\n",
       "      <th>income</th>\n",
       "      <th>SNA</th>\n",
       "      <th>first_time_cd</th>\n",
       "      <th>education_cd_GRD</th>\n",
       "      <th>...</th>\n",
       "      <th>education_cd_SCH</th>\n",
       "      <th>education_cd_UGR</th>\n",
       "      <th>gender_cd_M</th>\n",
       "      <th>car_own_flg_Y</th>\n",
       "      <th>car_type_flg_Y</th>\n",
       "      <th>Air_flg_Y</th>\n",
       "      <th>home_address_cd_S</th>\n",
       "      <th>home_address_cd_T</th>\n",
       "      <th>work_address_cd_S</th>\n",
       "      <th>work_address_cd_T</th>\n",
       "    </tr>\n",
       "    <tr>\n",
       "      <th>id</th>\n",
       "      <th></th>\n",
       "      <th></th>\n",
       "      <th></th>\n",
       "      <th></th>\n",
       "      <th></th>\n",
       "      <th></th>\n",
       "      <th></th>\n",
       "      <th></th>\n",
       "      <th></th>\n",
       "      <th></th>\n",
       "      <th></th>\n",
       "      <th></th>\n",
       "      <th></th>\n",
       "      <th></th>\n",
       "      <th></th>\n",
       "      <th></th>\n",
       "      <th></th>\n",
       "      <th></th>\n",
       "      <th></th>\n",
       "      <th></th>\n",
       "      <th></th>\n",
       "    </tr>\n",
       "  </thead>\n",
       "  <tbody>\n",
       "    <tr>\n",
       "      <th>1</th>\n",
       "      <td>27</td>\n",
       "      <td>0</td>\n",
       "      <td>0</td>\n",
       "      <td>-1.917831</td>\n",
       "      <td>0</td>\n",
       "      <td>40</td>\n",
       "      <td>32000</td>\n",
       "      <td>1</td>\n",
       "      <td>4</td>\n",
       "      <td>0</td>\n",
       "      <td>...</td>\n",
       "      <td>1</td>\n",
       "      <td>0</td>\n",
       "      <td>1</td>\n",
       "      <td>1</td>\n",
       "      <td>1</td>\n",
       "      <td>0</td>\n",
       "      <td>1</td>\n",
       "      <td>0</td>\n",
       "      <td>0</td>\n",
       "      <td>1</td>\n",
       "    </tr>\n",
       "    <tr>\n",
       "      <th>2</th>\n",
       "      <td>26</td>\n",
       "      <td>0</td>\n",
       "      <td>0</td>\n",
       "      <td>-1.153144</td>\n",
       "      <td>2</td>\n",
       "      <td>60</td>\n",
       "      <td>50000</td>\n",
       "      <td>2</td>\n",
       "      <td>1</td>\n",
       "      <td>1</td>\n",
       "      <td>...</td>\n",
       "      <td>0</td>\n",
       "      <td>0</td>\n",
       "      <td>0</td>\n",
       "      <td>0</td>\n",
       "      <td>0</td>\n",
       "      <td>0</td>\n",
       "      <td>1</td>\n",
       "      <td>0</td>\n",
       "      <td>0</td>\n",
       "      <td>1</td>\n",
       "    </tr>\n",
       "  </tbody>\n",
       "</table>\n",
       "<p>2 rows × 21 columns</p>\n",
       "</div>"
      ],
      "text/plain": [
       "    age  appl_rej_cnt  good_work_flg  Score_bki  out_request_cnt  \\\n",
       "id                                                                 \n",
       "1    27             0              0  -1.917831                0   \n",
       "2    26             0              0  -1.153144                2   \n",
       "\n",
       "    region_rating  income  SNA  first_time_cd  education_cd_GRD  \\\n",
       "id                                                                \n",
       "1              40   32000    1              4                 0   \n",
       "2              60   50000    2              1                 1   \n",
       "\n",
       "          ...          education_cd_SCH  education_cd_UGR  gender_cd_M  \\\n",
       "id        ...                                                            \n",
       "1         ...                         1                 0            1   \n",
       "2         ...                         0                 0            0   \n",
       "\n",
       "    car_own_flg_Y  car_type_flg_Y  Air_flg_Y  home_address_cd_S  \\\n",
       "id                                                                \n",
       "1               1               1          0                  1   \n",
       "2               0               0          0                  1   \n",
       "\n",
       "    home_address_cd_T  work_address_cd_S  work_address_cd_T  \n",
       "id                                                           \n",
       "1                   0                  0                  1  \n",
       "2                   0                  0                  1  \n",
       "\n",
       "[2 rows x 21 columns]"
      ]
     },
     "execution_count": 47,
     "metadata": {},
     "output_type": "execute_result"
    }
   ],
   "source": [
    "#Заменяем нечисловые поля на dummy кодированные\n",
    "df.drop(category_columns, axis=1, inplace=True)\n",
    "df = pd.concat([df, Data_category], axis=1)\n",
    "del Data_category\n",
    "df.head(2)"
   ]
  },
  {
   "cell_type": "code",
   "execution_count": 25,
   "metadata": {
    "scrolled": true
   },
   "outputs": [
    {
     "data": {
      "text/plain": [
       "age                   int64\n",
       "appl_rej_cnt          int64\n",
       "good_work_flg         int64\n",
       "Score_bki           float64\n",
       "out_request_cnt       int64\n",
       "region_rating         int64\n",
       "home_address_cd       int64\n",
       "work_address_cd       int64\n",
       "income                int64\n",
       "SNA                   int64\n",
       "first_time_cd         int64\n",
       "education_cd_GRD      uint8\n",
       "education_cd_PGR      uint8\n",
       "education_cd_SCH      uint8\n",
       "education_cd_UGR      uint8\n",
       "gender_cd_M           uint8\n",
       "car_own_flg_Y         uint8\n",
       "car_type_flg_Y        uint8\n",
       "Air_flg_Y             uint8\n",
       "dtype: object"
      ]
     },
     "execution_count": 25,
     "metadata": {},
     "output_type": "execute_result"
    }
   ],
   "source": [
    "# Проверяем типы полей\n",
    "df.dtypes"
   ]
  },
  {
   "cell_type": "code",
   "execution_count": 77,
   "metadata": {},
   "outputs": [
    {
     "data": {
      "text/html": [
       "<div>\n",
       "<table border=\"1\" class=\"dataframe\">\n",
       "  <thead>\n",
       "    <tr style=\"text-align: right;\">\n",
       "      <th></th>\n",
       "      <th>age</th>\n",
       "      <th>appl_rej_cnt</th>\n",
       "      <th>good_work_flg</th>\n",
       "      <th>out_request_cnt</th>\n",
       "      <th>region_rating</th>\n",
       "      <th>SNA</th>\n",
       "      <th>first_time_cd</th>\n",
       "      <th>education_cd_GRD</th>\n",
       "      <th>education_cd_PGR</th>\n",
       "      <th>education_cd_SCH</th>\n",
       "      <th>...</th>\n",
       "      <th>gender_cd_M</th>\n",
       "      <th>car_own_flg_Y</th>\n",
       "      <th>car_type_flg_Y</th>\n",
       "      <th>Air_flg_Y</th>\n",
       "      <th>home_address_cd_S</th>\n",
       "      <th>home_address_cd_T</th>\n",
       "      <th>work_address_cd_S</th>\n",
       "      <th>work_address_cd_T</th>\n",
       "      <th>income_40k_flg</th>\n",
       "      <th>Score_bki_n</th>\n",
       "    </tr>\n",
       "    <tr>\n",
       "      <th>id</th>\n",
       "      <th></th>\n",
       "      <th></th>\n",
       "      <th></th>\n",
       "      <th></th>\n",
       "      <th></th>\n",
       "      <th></th>\n",
       "      <th></th>\n",
       "      <th></th>\n",
       "      <th></th>\n",
       "      <th></th>\n",
       "      <th></th>\n",
       "      <th></th>\n",
       "      <th></th>\n",
       "      <th></th>\n",
       "      <th></th>\n",
       "      <th></th>\n",
       "      <th></th>\n",
       "      <th></th>\n",
       "      <th></th>\n",
       "      <th></th>\n",
       "      <th></th>\n",
       "    </tr>\n",
       "  </thead>\n",
       "  <tbody>\n",
       "    <tr>\n",
       "      <th>1</th>\n",
       "      <td>27</td>\n",
       "      <td>0</td>\n",
       "      <td>0</td>\n",
       "      <td>0</td>\n",
       "      <td>40</td>\n",
       "      <td>1</td>\n",
       "      <td>4</td>\n",
       "      <td>0</td>\n",
       "      <td>0</td>\n",
       "      <td>1</td>\n",
       "      <td>...</td>\n",
       "      <td>1</td>\n",
       "      <td>1</td>\n",
       "      <td>1</td>\n",
       "      <td>0</td>\n",
       "      <td>1</td>\n",
       "      <td>0</td>\n",
       "      <td>0</td>\n",
       "      <td>1</td>\n",
       "      <td>0</td>\n",
       "      <td>-9.600053</td>\n",
       "    </tr>\n",
       "    <tr>\n",
       "      <th>2</th>\n",
       "      <td>26</td>\n",
       "      <td>0</td>\n",
       "      <td>0</td>\n",
       "      <td>2</td>\n",
       "      <td>60</td>\n",
       "      <td>2</td>\n",
       "      <td>1</td>\n",
       "      <td>1</td>\n",
       "      <td>0</td>\n",
       "      <td>0</td>\n",
       "      <td>...</td>\n",
       "      <td>0</td>\n",
       "      <td>0</td>\n",
       "      <td>0</td>\n",
       "      <td>0</td>\n",
       "      <td>1</td>\n",
       "      <td>0</td>\n",
       "      <td>0</td>\n",
       "      <td>1</td>\n",
       "      <td>1</td>\n",
       "      <td>-5.772273</td>\n",
       "    </tr>\n",
       "    <tr>\n",
       "      <th>3</th>\n",
       "      <td>35</td>\n",
       "      <td>0</td>\n",
       "      <td>1</td>\n",
       "      <td>0</td>\n",
       "      <td>40</td>\n",
       "      <td>4</td>\n",
       "      <td>3</td>\n",
       "      <td>0</td>\n",
       "      <td>0</td>\n",
       "      <td>1</td>\n",
       "      <td>...</td>\n",
       "      <td>1</td>\n",
       "      <td>0</td>\n",
       "      <td>0</td>\n",
       "      <td>0</td>\n",
       "      <td>0</td>\n",
       "      <td>0</td>\n",
       "      <td>1</td>\n",
       "      <td>0</td>\n",
       "      <td>0</td>\n",
       "      <td>-8.673896</td>\n",
       "    </tr>\n",
       "    <tr>\n",
       "      <th>4</th>\n",
       "      <td>35</td>\n",
       "      <td>0</td>\n",
       "      <td>1</td>\n",
       "      <td>2</td>\n",
       "      <td>20</td>\n",
       "      <td>1</td>\n",
       "      <td>3</td>\n",
       "      <td>1</td>\n",
       "      <td>0</td>\n",
       "      <td>0</td>\n",
       "      <td>...</td>\n",
       "      <td>0</td>\n",
       "      <td>0</td>\n",
       "      <td>0</td>\n",
       "      <td>0</td>\n",
       "      <td>1</td>\n",
       "      <td>0</td>\n",
       "      <td>0</td>\n",
       "      <td>1</td>\n",
       "      <td>1</td>\n",
       "      <td>-12.775163</td>\n",
       "    </tr>\n",
       "    <tr>\n",
       "      <th>5</th>\n",
       "      <td>24</td>\n",
       "      <td>0</td>\n",
       "      <td>0</td>\n",
       "      <td>1</td>\n",
       "      <td>50</td>\n",
       "      <td>1</td>\n",
       "      <td>2</td>\n",
       "      <td>0</td>\n",
       "      <td>0</td>\n",
       "      <td>0</td>\n",
       "      <td>...</td>\n",
       "      <td>0</td>\n",
       "      <td>0</td>\n",
       "      <td>0</td>\n",
       "      <td>0</td>\n",
       "      <td>1</td>\n",
       "      <td>0</td>\n",
       "      <td>0</td>\n",
       "      <td>1</td>\n",
       "      <td>0</td>\n",
       "      <td>-9.583781</td>\n",
       "    </tr>\n",
       "  </tbody>\n",
       "</table>\n",
       "<p>5 rows × 21 columns</p>\n",
       "</div>"
      ],
      "text/plain": [
       "    age  appl_rej_cnt  good_work_flg  out_request_cnt  region_rating  SNA  \\\n",
       "id                                                                          \n",
       "1    27             0              0                0             40    1   \n",
       "2    26             0              0                2             60    2   \n",
       "3    35             0              1                0             40    4   \n",
       "4    35             0              1                2             20    1   \n",
       "5    24             0              0                1             50    1   \n",
       "\n",
       "    first_time_cd  education_cd_GRD  education_cd_PGR  education_cd_SCH  \\\n",
       "id                                                                        \n",
       "1               4                 0                 0                 1   \n",
       "2               1                 1                 0                 0   \n",
       "3               3                 0                 0                 1   \n",
       "4               3                 1                 0                 0   \n",
       "5               2                 0                 0                 0   \n",
       "\n",
       "       ...       gender_cd_M  car_own_flg_Y  car_type_flg_Y  Air_flg_Y  \\\n",
       "id     ...                                                               \n",
       "1      ...                 1              1               1          0   \n",
       "2      ...                 0              0               0          0   \n",
       "3      ...                 1              0               0          0   \n",
       "4      ...                 0              0               0          0   \n",
       "5      ...                 0              0               0          0   \n",
       "\n",
       "    home_address_cd_S  home_address_cd_T  work_address_cd_S  \\\n",
       "id                                                            \n",
       "1                   1                  0                  0   \n",
       "2                   1                  0                  0   \n",
       "3                   0                  0                  1   \n",
       "4                   1                  0                  0   \n",
       "5                   1                  0                  0   \n",
       "\n",
       "    work_address_cd_T  income_40k_flg  Score_bki_n  \n",
       "id                                                  \n",
       "1                   1               0    -9.600053  \n",
       "2                   1               1    -5.772273  \n",
       "3                   0               0    -8.673896  \n",
       "4                   1               1   -12.775163  \n",
       "5                   1               0    -9.583781  \n",
       "\n",
       "[5 rows x 21 columns]"
      ]
     },
     "execution_count": 77,
     "metadata": {},
     "output_type": "execute_result"
    }
   ],
   "source": [
    "df.head(5)"
   ]
  },
  {
   "cell_type": "code",
   "execution_count": 44,
   "metadata": {},
   "outputs": [
    {
     "data": {
      "text/plain": [
       "id\n",
       "1         T\n",
       "2         T\n",
       "3         S\n",
       "4         T\n",
       "5         T\n",
       "6         T\n",
       "7         F\n",
       "8         T\n",
       "9         F\n",
       "10        S\n",
       "11        T\n",
       "12        F\n",
       "13        T\n",
       "14        F\n",
       "15        T\n",
       "16        T\n",
       "17        T\n",
       "18        T\n",
       "19        T\n",
       "20        S\n",
       "21        T\n",
       "22        S\n",
       "23        T\n",
       "24        T\n",
       "25        T\n",
       "26        F\n",
       "27        T\n",
       "28        S\n",
       "29        F\n",
       "30        T\n",
       "         ..\n",
       "205267    S\n",
       "205268    F\n",
       "205269    T\n",
       "205270    T\n",
       "205271    F\n",
       "205272    T\n",
       "205273    T\n",
       "205274    S\n",
       "205275    T\n",
       "205276    S\n",
       "205277    S\n",
       "205278    S\n",
       "205279    F\n",
       "205280    T\n",
       "205281    T\n",
       "205282    S\n",
       "205283    T\n",
       "205284    S\n",
       "205285    S\n",
       "205286    F\n",
       "205287    S\n",
       "205288    T\n",
       "205289    S\n",
       "205290    S\n",
       "205291    F\n",
       "205292    S\n",
       "205293    T\n",
       "205294    S\n",
       "205295    T\n",
       "205296    T\n",
       "Name: work_address_cd, dtype: object"
      ]
     },
     "execution_count": 44,
     "metadata": {},
     "output_type": "execute_result"
    }
   ],
   "source": [
    "###########\n",
    "df['work_address_cd'] = df.work_address_cd.replace(1, 'F')\n",
    "df['work_address_cd'] = df.work_address_cd.replace(2, 'S')\n",
    "df['work_address_cd'] = df.work_address_cd.replace(3, 'T')\n",
    "df.work_address_cd"
   ]
  },
  {
   "cell_type": "markdown",
   "metadata": {},
   "source": [
    "#### Вспомогательные функции\n",
    "\n",
    "\n",
    "##### WoE (weight of evidence)\n",
    " - На вход подается бинарная целевая переменная $target$, признак $feature$ и количество бакетов $k$\n",
    " - Признак разбивается на бакеты  с номерами $0 \\le i \\le k$. \n",
    " - Считаем долю значений целевой переменной $tr$ и количество наблюдений $cnt$\n",
    " - Считаем $WoE_i = \\ln\\left(\\frac{tr_i}{tr}\\right) - \\ln\\left(\\frac{1-tr_i}{1-tr}\\right)$\n",
    " - Рисуем зависимость $WoE_i$ от среднего значения признака в бакте\n",
    " \n",
    "###### IV (Information Value)\n",
    " - На вход подается бинарная целевая переменная $target$, признак $feature$ и количество бакетов $k$\n",
    " - Признак разбивается на бакеты  с номерами $0 \\le i \\le k$. \n",
    " - Считаем долю значений целевой переменной $tr$ и количество наблюдений $cnt$\n",
    " - Считаем долю значений целевой переменной в каждом бакете $tr_i$ и количество наблюдений в каждом бакете $cnt_i$\n",
    " - Считается $ IV = \\sum\\limits_{i}{\\left(\\frac{tr_i}{tr} - \\frac{1-tr_i}{1-tr}\\right)\\left(\\ln\\left(\\frac{tr_i}{tr}\\right) - \\ln\\left(\\frac{1-tr_i}{1-tr}\\right)\\right)\\left(\\frac{cnt_i}{cnt}\\right)}$\n",
    " - Слагаемые, в которых $tr_i=0$ или $tr_i=1$, сглаживаем до $tr_i=0.001$ и $tr_i=0.999$ соответственно"
   ]
  },
  {
   "cell_type": "code",
   "execution_count": 48,
   "metadata": {
    "collapsed": true
   },
   "outputs": [],
   "source": [
    "#Функция, русующая зависимость WoE от среднего значения признака в бакете\n",
    "def WoE(target, feature, nbuck=10):\n",
    "    #Копируем данные\n",
    "    df = pd.DataFrame()\n",
    "    df['target']  = target.copy()\n",
    "    df['feature'] = feature.copy()\n",
    "    #Считаем номер бакета\n",
    "    df['feature_buck'] = df['feature'].rank(method='min', pct=1, na_option = 'top').apply(\n",
    "        lambda x: int((x- 1/df.shape[0])*nbuck))\n",
    "    #Запоминаем среднее значение целевой переменной и кол-во наблюдений\n",
    "    tr  = df['target'].mean()\n",
    "    cnt = df['target'].count()\n",
    "    #Агрегируем по каждому бакету\n",
    "    df = df.groupby('feature_buck')['target' ].agg({'tr': 'mean','cnt': 'size'}).join(\n",
    "        df.groupby('feature_buck')['feature'].agg({'feature_av': 'mean'}))\n",
    "    #В случае крайних значений tr делаем сглаживание\n",
    "    df.tr = df.tr.apply(lambda x: max(0.001, min(0.999, x)))\n",
    "    #считаем WoE\n",
    "    df.eval('WoE = log(tr/@tr)-log((1-tr)/(1-@tr))', inplace=True)\n",
    "    #Погрешность WoE\n",
    "    df.eval('WoE_d = 2/sqrt(tr*(1-tr)*cnt)', inplace=True) \n",
    "    #убираем наблюдения с пустым значением признака\n",
    "    df.dropna(inplace=True)\n",
    "    #Рисуем график\n",
    "    fig = plt.gcf()\n",
    "    plt.grid(True)\n",
    "    plt.errorbar(df['feature_av'], df.WoE, yerr=np.array((df['WoE_d'])))\n",
    "    plt.xlabel('feature')\n",
    "    plt.ylabel('WoE')\n",
    "    plt.show()\n",
    "\n",
    "#Функция, возвращающая IV признака-feature с целевой переменной target\n",
    "def IV(target, feature, nbuck=10):\n",
    "    #Копируем данные\n",
    "    df = pd.DataFrame()\n",
    "    df['target']  = target.copy()\n",
    "    df['feature'] = feature.copy()\n",
    "    #Считаем номер бакета\n",
    "    df['feature_buck'] = df['feature'].rank(method='min', pct=1, na_option = 'top').apply(\n",
    "        lambda x: int((x- 1.0/df.shape[0])*nbuck))\n",
    "    #Запоминаем среднее значение целевой переменной и кол-во наблюдений\n",
    "    tr  = df['target'].mean()\n",
    "    cnt = df['target'].count()\n",
    "    #Агрегируем по каждому бакету\n",
    "    df = df.groupby('feature_buck')['target'].agg({'tr': 'mean','cnt': 'size'})\n",
    "    #В случае крайних значений tr делаем сглаживание\n",
    "    df.tr = df.tr.apply(lambda x: max(0.001, min(0.999, x)))\n",
    "    #Считаем IV\n",
    "    df.eval('IV = ( (tr/@tr) - ((1-tr)/(1-@tr))) * (log(tr/@tr) - log((1-tr)/(1-@tr)) ) * (cnt/@cnt)', inplace=True)\n",
    "    IV = df.IV.sum()\n",
    "    return IV"
   ]
  },
  {
   "cell_type": "markdown",
   "metadata": {},
   "source": [
    "#### WoE"
   ]
  },
  {
   "cell_type": "code",
   "execution_count": 49,
   "metadata": {},
   "outputs": [
    {
     "data": {
      "image/png": "[encoded data removed]",
      "text/plain": [
       "<matplotlib.figure.Figure at 0x1124daac8>"
      ]
     },
     "metadata": {},
     "output_type": "display_data"
    }
   ],
   "source": [
    "#Рисуем гистограмму\n",
    "df.loc[train_index].Score_bki.plot.hist(bins=50);"
   ]
  },
  {
   "cell_type": "code",
   "execution_count": 50,
   "metadata": {},
   "outputs": [
    {
     "data": {
      "image/png": "[encoded data removed]",
      "text/plain": [
       "<matplotlib.figure.Figure at 0x111cb5c88>"
      ]
     },
     "metadata": {},
     "output_type": "display_data"
    }
   ],
   "source": [
    "####\n",
    "df.loc[train_index].region_rating.plot.hist(bins=50);"
   ]
  },
  {
   "cell_type": "code",
   "execution_count": 51,
   "metadata": {},
   "outputs": [
    {
     "data": {
      "image/png": "[encoded data removed]",
      "text/plain": [
       "<matplotlib.figure.Figure at 0x106cfc240>"
      ]
     },
     "metadata": {},
     "output_type": "display_data"
    }
   ],
   "source": [
    "#Зависимость WoE от признака\n",
    "WoE(y.loc[train_index].default_flg, df.loc[train_index].Score_bki, nbuck=20)"
   ]
  },
  {
   "cell_type": "code",
   "execution_count": 52,
   "metadata": {},
   "outputs": [
    {
     "data": {
      "text/plain": [
       "0.283108532383257"
      ]
     },
     "execution_count": 52,
     "metadata": {},
     "output_type": "execute_result"
    }
   ],
   "source": [
    "# Считаем IV\n",
    "IV(y.loc[train_index].default_flg, df.loc[train_index].Score_bki, nbuck=20)"
   ]
  },
  {
   "cell_type": "code",
   "execution_count": 53,
   "metadata": {},
   "outputs": [
    {
     "data": {
      "image/png": "[encoded data removed]",
      "text/plain": [
       "<matplotlib.figure.Figure at 0x1124fc588>"
      ]
     },
     "metadata": {},
     "output_type": "display_data"
    }
   ],
   "source": [
    "df.income.plot.hist(bins=50);"
   ]
  },
  {
   "cell_type": "code",
   "execution_count": 54,
   "metadata": {},
   "outputs": [
    {
     "data": {
      "image/png": "[encoded data removed]",
      "text/plain": [
       "<matplotlib.figure.Figure at 0x11ed27518>"
      ]
     },
     "metadata": {},
     "output_type": "display_data"
    }
   ],
   "source": [
    "WoE(y.loc[train_index].default_flg, df.loc[train_index].income, nbuck=10)"
   ]
  },
  {
   "cell_type": "code",
   "execution_count": 55,
   "metadata": {},
   "outputs": [
    {
     "data": {
      "image/png": "[encoded data removed]",
      "text/plain": [
       "<matplotlib.figure.Figure at 0x11b9b45c0>"
      ]
     },
     "metadata": {},
     "output_type": "display_data"
    }
   ],
   "source": [
    "# WoE от преобразованного признака\n",
    "WoE(y.loc[train_index].default_flg, df.loc[train_index].income.apply(lambda x: np.log(x)), nbuck=10)"
   ]
  },
  {
   "cell_type": "code",
   "execution_count": 56,
   "metadata": {},
   "outputs": [
    {
     "name": "stdout",
     "output_type": "stream",
     "text": [
      "0.03837794897479724\n",
      "0.03837794897479724\n",
      "0.03354139550049351\n"
     ]
    }
   ],
   "source": [
    "print (IV(y.loc[train_index].default_flg, df.loc[train_index].income, nbuck=10))\n",
    "print (IV(y.loc[train_index].default_flg, df.loc[train_index].income.apply(lambda x: np.log(x)), nbuck=10))\n",
    "print (IV(y.loc[train_index].default_flg, df.loc[train_index].income.apply(lambda x: int(x > 40000)), nbuck=10))"
   ]
  },
  {
   "cell_type": "code",
   "execution_count": 57,
   "metadata": {},
   "outputs": [
    {
     "data": {
      "image/png": "[encoded data removed]",
      "text/plain": [
       "<matplotlib.figure.Figure at 0x11ba3dbe0>"
      ]
     },
     "metadata": {},
     "output_type": "display_data"
    }
   ],
   "source": [
    "# WoE от преобразованного признака\n",
    "WoE(y.loc[train_index].default_flg, df.loc[train_index].income.apply(lambda x: int(x > 40000)), nbuck=10)"
   ]
  },
  {
   "cell_type": "code",
   "execution_count": 58,
   "metadata": {
    "collapsed": true
   },
   "outputs": [],
   "source": [
    "# Создаем новое поле\n",
    "df['income_40k_flg'] = df.income.apply(lambda x: int(x > 40000))\n",
    "df.drop('income', axis=1, inplace=True)"
   ]
  },
  {
   "cell_type": "code",
   "execution_count": 59,
   "metadata": {
    "scrolled": true
   },
   "outputs": [
    {
     "data": {
      "image/png": "[encoded data removed]",
      "text/plain": [
       "<matplotlib.figure.Figure at 0x113829a58>"
      ]
     },
     "metadata": {},
     "output_type": "display_data"
    }
   ],
   "source": [
    "WoE(y.loc[train_index].default_flg, df.loc[train_index].region_rating, nbuck=10)"
   ]
  },
  {
   "cell_type": "code",
   "execution_count": 60,
   "metadata": {},
   "outputs": [],
   "source": [
    "df['Score_bki_n'] = df.Score_bki.apply(lambda x: x / 0.199773)\n",
    "df.drop('Score_bki', axis=1, inplace=True)"
   ]
  },
  {
   "cell_type": "code",
   "execution_count": 61,
   "metadata": {},
   "outputs": [
    {
     "data": {
      "image/png": "[encoded data removed]",
      "text/plain": [
       "<matplotlib.figure.Figure at 0x111cf7e10>"
      ]
     },
     "metadata": {},
     "output_type": "display_data"
    }
   ],
   "source": [
    "#Рисуем гистограмму\n",
    "df.loc[train_index].Score_bki_n.plot.hist(bins=50);"
   ]
  },
  {
   "cell_type": "markdown",
   "metadata": {},
   "source": [
    "#### Логистическая регрессия"
   ]
  },
  {
   "cell_type": "code",
   "execution_count": 62,
   "metadata": {},
   "outputs": [],
   "source": [
    "#Импортируем логистическую регрессию\n",
    "from sklearn.linear_model import LogisticRegression\n",
    "from sklearn.metrics import roc_auc_score"
   ]
  },
  {
   "cell_type": "code",
   "execution_count": 63,
   "metadata": {},
   "outputs": [
    {
     "name": "stdout",
     "output_type": "stream",
     "text": [
      "   Train Validate    C\n",
      "0.690065 0.681277 0.000010\n",
      "0.720806 0.709855 0.000100\n",
      "0.729975 0.715065 0.001000\n",
      "0.730834 0.714695 0.010000\n",
      "0.730736 0.714458 0.100000\n",
      "0.730723 0.714432 1.000000\n",
      "0.730721 0.714437 10.000000\n",
      "0.730725 0.714493 100.000000\n"
     ]
    }
   ],
   "source": [
    "#Выбираем параметр регуляризаци на валидационной выборке\n",
    "print ('%8s %8s %4s' % ('Train','Validate','C'))\n",
    "for C in [0.00001, 0.0001, 0.001, 0.01, 0.1, 1, 10, 100]:\n",
    "    LR = LogisticRegression(C=C,penalty='l2')\n",
    "    LR.fit(df.loc[train_index], y.loc[train_index].default_flg)\n",
    "    AUC_train = roc_auc_score(y.loc[train_index].default_flg, LR.predict_proba(df.loc[train_index])[:,1])\n",
    "    AUC_validate = roc_auc_score(y.loc[validate_index].default_flg, LR.predict_proba(df.loc[validate_index])[:,1])\n",
    "    print('%.6f %.6f %8f' %  (AUC_train,AUC_validate,C))"
   ]
  },
  {
   "cell_type": "code",
   "execution_count": 64,
   "metadata": {
    "collapsed": true
   },
   "outputs": [],
   "source": [
    "#Запускаем лучшее решение и сохраняем результат\n",
    "LR_best = LogisticRegression(C=10, penalty='l1')\n",
    "LR.fit(df.loc[train_index], y.loc[train_index].default_flg)\n",
    "test_pd = LR.predict_proba(df.loc[test_index])[:,1]"
   ]
  },
  {
   "cell_type": "code",
   "execution_count": 65,
   "metadata": {
    "scrolled": true
   },
   "outputs": [
    {
     "data": {
      "text/html": [
       "<div>\n",
       "<table border=\"1\" class=\"dataframe\">\n",
       "  <thead>\n",
       "    <tr style=\"text-align: right;\">\n",
       "      <th></th>\n",
       "      <th>coef</th>\n",
       "    </tr>\n",
       "  </thead>\n",
       "  <tbody>\n",
       "    <tr>\n",
       "      <th>age</th>\n",
       "      <td>-0.005755</td>\n",
       "    </tr>\n",
       "    <tr>\n",
       "      <th>appl_rej_cnt</th>\n",
       "      <td>0.131927</td>\n",
       "    </tr>\n",
       "    <tr>\n",
       "      <th>good_work_flg</th>\n",
       "      <td>-0.244479</td>\n",
       "    </tr>\n",
       "    <tr>\n",
       "      <th>out_request_cnt</th>\n",
       "      <td>0.067642</td>\n",
       "    </tr>\n",
       "    <tr>\n",
       "      <th>region_rating</th>\n",
       "      <td>-0.025629</td>\n",
       "    </tr>\n",
       "    <tr>\n",
       "      <th>SNA</th>\n",
       "      <td>0.139796</td>\n",
       "    </tr>\n",
       "    <tr>\n",
       "      <th>first_time_cd</th>\n",
       "      <td>-0.093412</td>\n",
       "    </tr>\n",
       "    <tr>\n",
       "      <th>education_cd_GRD</th>\n",
       "      <td>0.140147</td>\n",
       "    </tr>\n",
       "    <tr>\n",
       "      <th>education_cd_PGR</th>\n",
       "      <td>-0.011155</td>\n",
       "    </tr>\n",
       "    <tr>\n",
       "      <th>education_cd_SCH</th>\n",
       "      <td>0.555998</td>\n",
       "    </tr>\n",
       "    <tr>\n",
       "      <th>education_cd_UGR</th>\n",
       "      <td>0.378746</td>\n",
       "    </tr>\n",
       "    <tr>\n",
       "      <th>gender_cd_M</th>\n",
       "      <td>0.298609</td>\n",
       "    </tr>\n",
       "    <tr>\n",
       "      <th>car_own_flg_Y</th>\n",
       "      <td>-0.021690</td>\n",
       "    </tr>\n",
       "    <tr>\n",
       "      <th>car_type_flg_Y</th>\n",
       "      <td>-0.215138</td>\n",
       "    </tr>\n",
       "    <tr>\n",
       "      <th>Air_flg_Y</th>\n",
       "      <td>-0.186273</td>\n",
       "    </tr>\n",
       "    <tr>\n",
       "      <th>home_address_cd_S</th>\n",
       "      <td>0.487774</td>\n",
       "    </tr>\n",
       "    <tr>\n",
       "      <th>home_address_cd_T</th>\n",
       "      <td>0.047365</td>\n",
       "    </tr>\n",
       "    <tr>\n",
       "      <th>work_address_cd_S</th>\n",
       "      <td>0.255907</td>\n",
       "    </tr>\n",
       "    <tr>\n",
       "      <th>work_address_cd_T</th>\n",
       "      <td>0.398988</td>\n",
       "    </tr>\n",
       "    <tr>\n",
       "      <th>income_40k_flg</th>\n",
       "      <td>-0.133633</td>\n",
       "    </tr>\n",
       "    <tr>\n",
       "      <th>Score_bki_n</th>\n",
       "      <td>0.196215</td>\n",
       "    </tr>\n",
       "  </tbody>\n",
       "</table>\n",
       "</div>"
      ],
      "text/plain": [
       "                       coef\n",
       "age               -0.005755\n",
       "appl_rej_cnt       0.131927\n",
       "good_work_flg     -0.244479\n",
       "out_request_cnt    0.067642\n",
       "region_rating     -0.025629\n",
       "SNA                0.139796\n",
       "first_time_cd     -0.093412\n",
       "education_cd_GRD   0.140147\n",
       "education_cd_PGR  -0.011155\n",
       "education_cd_SCH   0.555998\n",
       "education_cd_UGR   0.378746\n",
       "gender_cd_M        0.298609\n",
       "car_own_flg_Y     -0.021690\n",
       "car_type_flg_Y    -0.215138\n",
       "Air_flg_Y         -0.186273\n",
       "home_address_cd_S  0.487774\n",
       "home_address_cd_T  0.047365\n",
       "work_address_cd_S  0.255907\n",
       "work_address_cd_T  0.398988\n",
       "income_40k_flg    -0.133633\n",
       "Score_bki_n        0.196215"
      ]
     },
     "execution_count": 65,
     "metadata": {},
     "output_type": "execute_result"
    }
   ],
   "source": [
    "#Выводим коэффициенты\n",
    "pd.DataFrame(LR.coef_.reshape(LR.coef_.shape[1],1), index=df.columns, columns=['coef'])"
   ]
  },
  {
   "cell_type": "code",
   "execution_count": null,
   "metadata": {},
   "outputs": [],
   "source": [
    "#Сохраняем результат в csv\n",
    "test_pd = pd.DataFrame(test_pd,columns=['pd'], index=test_index)\n",
    "test_pd.to_csv('test_pd.csv')\n",
    "print(test_pd.shape)\n",
    "test_pd.head(2)"
   ]
  },
  {
   "cell_type": "code",
   "execution_count": null,
   "metadata": {
    "collapsed": true
   },
   "outputs": [],
   "source": []
  }
 ],
 "metadata": {
  "kernelspec": {
   "display_name": "Python 2",
   "language": "python",
   "name": "python2"
  },
  "language_info": {
   "codemirror_mode": {
    "name": "ipython",
    "version": 2
   },
   "file_extension": ".py",
   "mimetype": "text/x-python",
   "name": "python",
   "nbconvert_exporter": "python",
   "pygments_lexer": "ipython2",
   "version": "2.7.13"
  }
 },
 "nbformat": 4,
 "nbformat_minor": 1
}
